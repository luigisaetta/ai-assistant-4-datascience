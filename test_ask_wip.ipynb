{
 "cells": [
  {
   "cell_type": "code",
   "execution_count": 1,
   "id": "6791c0d7-3c4f-4277-9bde-e16a3d607eba",
   "metadata": {},
   "outputs": [],
   "source": [
    "# for loading the dataset\n",
    "import seaborn as sns\n",
    "\n",
    "import logging\n",
    "\n",
    "# Get the logger for oci.circuit_breaker\n",
    "oci_circuit_breaker_logger = logging.getLogger(\"oci.circuit_breaker\")\n",
    "\n",
    "# Set the log level to WARNING or ERROR to suppress INFO logs\n",
    "oci_circuit_breaker_logger.setLevel(logging.WARNING)"
   ]
  },
  {
   "cell_type": "code",
   "execution_count": 2,
   "id": "86bb8ade-3d87-4666-b609-fa3ed99bba69",
   "metadata": {},
   "outputs": [
    {
     "name": "stdout",
     "output_type": "stream",
     "text": [
      "OCIGenaiMagics extension loaded...\n",
      "List of magic commands available:\n",
      "* ask\n",
      "* ask_code\n",
      "* ask_data\n",
      "* clear_history\n",
      "* show_variables\n",
      "* show_model_config\n",
      "* genai_stats\n",
      "* clear_stats\n"
     ]
    }
   ],
   "source": [
    "# load the magic extension\n",
    "%load_ext oci_genai_magics"
   ]
  },
  {
   "cell_type": "code",
   "execution_count": 3,
   "id": "53f0772a-1bc1-4840-bb23-97afd461d5be",
   "metadata": {},
   "outputs": [
    {
     "name": "stdout",
     "output_type": "stream",
     "text": [
      "Model configuration defined in config.py:\n",
      "* Model:  meta.llama-3.1-405b-instruct\n",
      "* Endpoint:  https://inference.generativeai.us-chicago-1.oci.oraclecloud.com\n",
      "* Temperature:  0.1\n",
      "* Max_tokens:  1024\n"
     ]
    }
   ],
   "source": [
    "%show_model_config"
   ]
  },
  {
   "cell_type": "code",
   "execution_count": 4,
   "id": "5cb68839-d1d4-4801-9938-b68db32b88f5",
   "metadata": {},
   "outputs": [
    {
     "name": "stdout",
     "output_type": "stream",
     "text": [
      "Performance metrics:\n",
      "* Total requests:  0\n",
      "* Total input tokens:  0\n",
      "* Total output tokens:  0\n"
     ]
    }
   ],
   "source": [
    "%genai_stats"
   ]
  },
  {
   "cell_type": "code",
   "execution_count": 5,
   "id": "4658817d-9910-4f6c-b034-aa331c384c0e",
   "metadata": {},
   "outputs": [
    {
     "data": {
      "text/markdown": [
       "A survival model, also known as a survival analysis or time-to-event model, is a type of statistical model used to analyze the time it takes for a specific event to occur. The event of interest can be anything from a customer churning, a machine failing, a patient experiencing a disease recurrence, or even death.\n",
       "\n",
       "The primary goal of a survival model is to estimate the probability of survival (or non-occurrence of the event) beyond a certain time point, given a set of predictor variables.\n",
       "\n",
       "Key characteristics of survival models:\n",
       "\n",
       "1. **Time-to-event data**: The outcome variable is the time it takes for the event to occur.\n",
       "2. **Censoring**: Some observations may not experience the event during the study period, so their outcome is censored (i.e., we don't know when or if the event will occur).\n",
       "3. **Non-negative outcome**: Time-to-event data is always non-negative, as time cannot be negative.\n",
       "\n",
       "Common applications of survival models:\n",
       "\n",
       "1. **Predicting customer churn**: Estimating the probability of a customer switching to a competitor based on their usage patterns and demographic data.\n",
       "2. **Reliability engineering**: Modeling the time-to-failure of machines or components to optimize maintenance schedules.\n",
       "3. **Medical research**: Analyzing the time-to-disease recurrence or death in patients with a specific condition.\n",
       "4. **Insurance risk assessment**: Estimating the likelihood of a policyholder filing a claim based on their risk profile.\n",
       "\n",
       "Some popular survival models include:\n",
       "\n",
       "1. **Kaplan-Meier estimator**: A non-parametric model for estimating the survival function.\n",
       "2. **Cox proportional hazards model**: A semi-parametric model for estimating the hazard ratio (i.e., the relative risk of the event occurring).\n",
       "3. **Parametric models**: Such as the Weibull, exponential, and log-normal distributions, which assume a specific distribution for the time-to-event data.\n",
       "\n",
       "Do you have any specific questions about survival models or their applications?"
      ],
      "text/plain": [
       "<IPython.core.display.Markdown object>"
      ]
     },
     "metadata": {},
     "output_type": "display_data"
    }
   ],
   "source": [
    "%ask What is a survival model ?"
   ]
  },
  {
   "cell_type": "markdown",
   "id": "8fc55c34-c60f-4bb4-8c7b-c147a7820c22",
   "metadata": {},
   "source": [
    "#### Load some data (we choose a well know dataset)"
   ]
  },
  {
   "cell_type": "code",
   "execution_count": null,
   "id": "16d90fa5-d6a9-4837-8eb4-b9f67a70f3ff",
   "metadata": {},
   "outputs": [],
   "source": [
    "# load a dataset\n",
    "titanic = sns.load_dataset(\"titanic\")"
   ]
  },
  {
   "cell_type": "code",
   "execution_count": null,
   "id": "9d29f7ff-4815-437c-a7eb-0e5e6fa1679f",
   "metadata": {},
   "outputs": [],
   "source": [
    "%show_variables"
   ]
  },
  {
   "cell_type": "code",
   "execution_count": null,
   "id": "fe0b5817-c80f-4b34-b4cc-7d2a802cda66",
   "metadata": {},
   "outputs": [],
   "source": [
    "%%ask_data \n",
    "is titanic dataframe in your Context ?"
   ]
  },
  {
   "cell_type": "code",
   "execution_count": null,
   "id": "2728dcec-007b-4849-b96a-35a96c1e0059",
   "metadata": {},
   "outputs": [],
   "source": [
    "%%ask_data \n",
    "Analyze the titanic dataset I have loaded and provide a detailed report"
   ]
  },
  {
   "cell_type": "code",
   "execution_count": null,
   "id": "20a250e1-e0ff-40d8-8599-469aba9c2988",
   "metadata": {},
   "outputs": [],
   "source": [
    "%%ask_code \n",
    "provide the code to compute the correlation matrix for numerical features in dataset titanic.\n",
    "Plot the correlation matrix.                                             "
   ]
  },
  {
   "cell_type": "code",
   "execution_count": null,
   "id": "21cfb28a-c211-47a7-8e37-389a2fa622da",
   "metadata": {},
   "outputs": [],
   "source": [
    "import pandas as pd\n",
    "import numpy as np\n",
    "import matplotlib.pyplot as plt\n",
    "import seaborn as sns\n",
    "\n",
    "# Assuming the titanic dataset is already loaded into a pandas DataFrame called 'titanic'\n",
    "\n",
    "# Select numerical features\n",
    "numerical_features = titanic.select_dtypes(include=[\"int64\", \"float64\"]).columns\n",
    "\n",
    "# Compute correlation matrix\n",
    "correlation_matrix = titanic[numerical_features].corr()\n",
    "\n",
    "# Print correlation matrix\n",
    "print(correlation_matrix)\n",
    "\n",
    "# Plot correlation matrix\n",
    "plt.figure(figsize=(10, 8))\n",
    "sns.heatmap(correlation_matrix, annot=True, cmap=\"coolwarm\", square=True)\n",
    "plt.title(\"Correlation Matrix for Numerical Features\")\n",
    "plt.show()"
   ]
  },
  {
   "cell_type": "code",
   "execution_count": null,
   "id": "3ed45bc7-8b0c-4e48-badf-63fe2636457e",
   "metadata": {},
   "outputs": [],
   "source": [
    "%%ask_data \n",
    "How many records and columns are in the titanic DataFrame ?"
   ]
  },
  {
   "cell_type": "code",
   "execution_count": null,
   "id": "859b01aa-da06-4e76-ba49-a92457f57318",
   "metadata": {},
   "outputs": [],
   "source": [
    "%%ask_data \n",
    "\"list all columns in titanic dataset loaded with null values\""
   ]
  },
  {
   "cell_type": "code",
   "execution_count": null,
   "id": "7b364d4d-8bbb-4318-9426-672e1e51d468",
   "metadata": {},
   "outputs": [],
   "source": [
    "titanic.isnull().sum()"
   ]
  },
  {
   "cell_type": "code",
   "execution_count": null,
   "id": "77abe902-c02b-4aba-b0bf-8989bbb9d824",
   "metadata": {},
   "outputs": [],
   "source": [
    "%ask What is catboost ? Give a detailed description."
   ]
  },
  {
   "cell_type": "code",
   "execution_count": null,
   "id": "8613bb8f-ed7e-4907-9b34-7284d2a58075",
   "metadata": {},
   "outputs": [],
   "source": [
    "%ask \"can you suggest other gradient boosting models ?\""
   ]
  },
  {
   "cell_type": "code",
   "execution_count": null,
   "id": "6c70412d-f22f-4ec8-9c33-9cfef7b8ba5a",
   "metadata": {},
   "outputs": [],
   "source": [
    "%%ask_code \n",
    "\"how to find rows with NaN values in titanic dataframe ?\""
   ]
  },
  {
   "cell_type": "code",
   "execution_count": null,
   "id": "54f901a5-24cc-45ce-a8fd-09510c9211d0",
   "metadata": {},
   "outputs": [],
   "source": []
  }
 ],
 "metadata": {
  "kernelspec": {
   "display_name": "Python 3 (ipykernel)",
   "language": "python",
   "name": "python3"
  },
  "language_info": {
   "codemirror_mode": {
    "name": "ipython",
    "version": 3
   },
   "file_extension": ".py",
   "mimetype": "text/x-python",
   "name": "python",
   "nbconvert_exporter": "python",
   "pygments_lexer": "ipython3",
   "version": "3.11.0"
  }
 },
 "nbformat": 4,
 "nbformat_minor": 5
}
