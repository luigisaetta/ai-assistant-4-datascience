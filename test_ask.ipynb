{
 "cells": [
  {
   "cell_type": "code",
   "execution_count": 1,
   "id": "6791c0d7-3c4f-4277-9bde-e16a3d607eba",
   "metadata": {},
   "outputs": [],
   "source": [
    "# for loading the dataset\n",
    "import seaborn as sns"
   ]
  },
  {
   "cell_type": "code",
   "execution_count": 2,
   "id": "86bb8ade-3d87-4666-b609-fa3ed99bba69",
   "metadata": {},
   "outputs": [
    {
     "name": "stdout",
     "output_type": "stream",
     "text": [
      "OCIGenaiMagics extension loaded...\n",
      "List of magic commands available:\n",
      "* ask\n",
      "* ask_code\n",
      "* ask_data\n",
      "* clear_history\n",
      "* show_variables\n",
      "* show_model_config\n",
      "* genai_stats\n",
      "* clear_stats\n"
     ]
    }
   ],
   "source": [
    "# load the magic extension\n",
    "%load_ext oci_genai_magics"
   ]
  },
  {
   "cell_type": "code",
   "execution_count": 3,
   "id": "53f0772a-1bc1-4840-bb23-97afd461d5be",
   "metadata": {},
   "outputs": [
    {
     "name": "stdout",
     "output_type": "stream",
     "text": [
      "Model configuration defined in config.py:\n",
      "* Model:  meta.llama-3.1-405b-instruct\n",
      "* Endpoint:  https://inference.generativeai.us-chicago-1.oci.oraclecloud.com\n",
      "* Temperature:  0.1\n",
      "* Max_tokens:  1024\n"
     ]
    }
   ],
   "source": [
    "%show_model_config"
   ]
  },
  {
   "cell_type": "code",
   "execution_count": null,
   "id": "906216c7-f889-417a-ab36-1db669fdc197",
   "metadata": {},
   "outputs": [],
   "source": [
    "%ask Create a report on Larry Ellison. Limit to 5 points."
   ]
  },
  {
   "cell_type": "code",
   "execution_count": 4,
   "id": "5cb68839-d1d4-4801-9938-b68db32b88f5",
   "metadata": {},
   "outputs": [
    {
     "name": "stdout",
     "output_type": "stream",
     "text": [
      "Performance metrics:\n",
      "* Total requests:  0\n",
      "* Total input tokens:  0\n",
      "* Total output tokens:  0\n"
     ]
    }
   ],
   "source": [
    "%genai_stats"
   ]
  },
  {
   "cell_type": "code",
   "execution_count": null,
   "id": "21b38f30-2502-4dec-aefd-97c424f16878",
   "metadata": {},
   "outputs": [],
   "source": [
    "%ask summarize in maximum two sentences"
   ]
  },
  {
   "cell_type": "code",
   "execution_count": null,
   "id": "163579f9-2643-4b76-94f1-451150d3c98c",
   "metadata": {},
   "outputs": [],
   "source": [
    "%genai_stats"
   ]
  },
  {
   "cell_type": "code",
   "execution_count": null,
   "id": "a3a06e43-6fce-439e-b49c-7034a345e9d7",
   "metadata": {},
   "outputs": [],
   "source": [
    "%ask What is the 3d Laplace equation and when is it used ?"
   ]
  },
  {
   "cell_type": "code",
   "execution_count": 5,
   "id": "4658817d-9910-4f6c-b034-aa331c384c0e",
   "metadata": {},
   "outputs": [
    {
     "name": "stderr",
     "output_type": "stream",
     "text": [
      "INFO:oci.circuit_breaker:Default Auth client Circuit breaker strategy enabled\n"
     ]
    },
    {
     "data": {
      "text/markdown": [
       "A survival model, also known as a survival analysis or time-to-event model, is a type of statistical model used to analyze the time it takes for a specific event to occur. The event of interest can be anything from a patient's death, a machine's failure, or a customer's churn.\n",
       "\n",
       "**Key characteristics of survival models:**\n",
       "\n",
       "1. **Time-to-event data**: The outcome variable is the time it takes for the event to occur.\n",
       "2. **Censoring**: Not all observations experience the event during the study period, so their event times are unknown (censored).\n",
       "3. **Non-negative time**: Time cannot be negative, so the model must account for this constraint.\n",
       "\n",
       "**Common applications of survival models:**\n",
       "\n",
       "1. **Medical research**: Analyzing patient survival times to evaluate treatment effectiveness.\n",
       "2. **Reliability engineering**: Predicting the time to failure of machines or components.\n",
       "3. **Customer churn analysis**: Modeling the time until a customer stops using a service.\n",
       "4. **Insurance risk assessment**: Estimating the likelihood of an event (e.g., accident, death) occurring within a certain time frame.\n",
       "\n",
       "**Common types of survival models:**\n",
       "\n",
       "1. **Kaplan-Meier estimator**: A non-parametric model that estimates the survival function.\n",
       "2. **Cox proportional hazards model**: A semi-parametric model that estimates the hazard ratio.\n",
       "3. **Parametric models**: Such as the Weibull, exponential, and log-normal distributions, which assume a specific distribution for the survival times.\n",
       "4. **Machine learning models**: Such as random forests and neural networks, which can be used for survival analysis.\n",
       "\n",
       "**Goals of survival modeling:**\n",
       "\n",
       "1. **Estimate the survival function**: Describe the probability of surviving beyond a certain time point.\n",
       "2. **Compare survival curves**: Evaluate the difference in survival times between groups (e.g., treatment vs. control).\n",
       "3. **Identify risk factors**: Determine the factors associated with the event of interest.\n",
       "4. **Predict event times**: Estimate the time until the event occurs for new, unseen data.\n",
       "\n",
       "I hope this helps! Do you have any specific questions or applications in mind?"
      ],
      "text/plain": [
       "<IPython.core.display.Markdown object>"
      ]
     },
     "metadata": {},
     "output_type": "display_data"
    }
   ],
   "source": [
    "%ask What is a survival model ?"
   ]
  },
  {
   "cell_type": "code",
   "execution_count": null,
   "id": "5a0d9ae0-a604-45b4-82f2-b84dfa412a6c",
   "metadata": {},
   "outputs": [],
   "source": [
    "%clear_history"
   ]
  },
  {
   "cell_type": "code",
   "execution_count": null,
   "id": "05710634-5d8b-479a-a24e-17b00bec4ec3",
   "metadata": {},
   "outputs": [],
   "source": [
    "%ask is he a sailor ?"
   ]
  },
  {
   "cell_type": "code",
   "execution_count": 6,
   "id": "c94a4bf0-caa2-448e-bf66-2e7295533484",
   "metadata": {},
   "outputs": [],
   "source": [
    "cities = [\"Naples\", \"Rome\", \"Treviso\", \"London\", \"New York\"]\n",
    "counts = [1, 2, 3]"
   ]
  },
  {
   "cell_type": "code",
   "execution_count": 7,
   "id": "153820f7-9f39-43df-b767-af544b6b245d",
   "metadata": {},
   "outputs": [
    {
     "data": {
      "text/markdown": [
       "**UK Cities:**\n",
       "\n",
       "1. London\n",
       "\n",
       "**Italian Cities Count:** 3\n",
       "\n",
       "Note: The list only contains one UK city, which is London. The Italian cities in the list are Naples, Rome, and Treviso."
      ],
      "text/plain": [
       "<IPython.core.display.Markdown object>"
      ]
     },
     "metadata": {},
     "output_type": "display_data"
    }
   ],
   "source": [
    "%%ask_data \n",
    "Analyze the cities list and print only names of cities in UK.\n",
    "Print the names in alphabetical order.\n",
    "Count the number of italian cities in the list"
   ]
  },
  {
   "cell_type": "code",
   "execution_count": 8,
   "id": "a500e8c5-cd93-40a0-a420-d83370024ab7",
   "metadata": {},
   "outputs": [
    {
     "data": {
      "text/markdown": [
       "**Sum of Counts:** 6\n",
       "\n",
       "Explanation: The sum of the values in the counts list is calculated by adding 1 + 2 + 3, which equals 6."
      ],
      "text/plain": [
       "<IPython.core.display.Markdown object>"
      ]
     },
     "metadata": {},
     "output_type": "display_data"
    }
   ],
   "source": [
    "%%ask_data \n",
    "Sum all the values in counts and print the result"
   ]
  },
  {
   "cell_type": "code",
   "execution_count": 9,
   "id": "16d90fa5-d6a9-4837-8eb4-b9f67a70f3ff",
   "metadata": {},
   "outputs": [],
   "source": [
    "# load a dataset\n",
    "titanic = sns.load_dataset(\"titanic\")"
   ]
  },
  {
   "cell_type": "code",
   "execution_count": 10,
   "id": "9d29f7ff-4815-437c-a7eb-0e5e6fa1679f",
   "metadata": {},
   "outputs": [
    {
     "name": "stdout",
     "output_type": "stream",
     "text": [
      "User-defined variables in the current session:\n",
      "* cities (type: list): ['Naples', 'Rome', 'Treviso', 'London', 'New York']\n",
      "* counts (type: list): [1, 2, 3]\n",
      "* titanic (type: DataFrame):      survived  pclass     sex   age  sibsp  parch     fare embarked   class  \\\n",
      "0           0       3    male  22.0      1      0   7.2500        S   Third   \n",
      "1           1       1  female  38.0      1      0  71.2833        C   First   \n",
      "2           1       3  female  26.0      0      0   7.9250        S   Third   \n",
      "3           1       1  female  35.0      1      0  53.1000        S   First   \n",
      "4           0       3    male  35.0      0      0   8.0500        S   Third   \n",
      "..        ...     ...     ...   ...    ...    ...      ...      ...     ...   \n",
      "886         0       2    male  27.0      0      0  13.0000        S  Second   \n",
      "887         1       1  female  19.0      0      0  30.0000        S   First   \n",
      "888         0       3  female   NaN      1      2  23.4500        S   Third   \n",
      "889         1       1    male  26.0      0      0  30.0000        C   First   \n",
      "890         0       3    male  32.0      0      0   7.7500        Q   Third   \n",
      "\n",
      "       who  adult_male deck  embark_town alive  alone  \n",
      "0      man        True  NaN  Southampton    no  False  \n",
      "1    woman       False    C    Cherbourg   yes  False  \n",
      "2    woman       False  NaN  Southampton   yes   True  \n",
      "3    woman       False    C  Southampton   yes  False  \n",
      "4      man        True  NaN  Southampton    no   True  \n",
      "..     ...         ...  ...          ...   ...    ...  \n",
      "886    man        True  NaN  Southampton    no   True  \n",
      "887  woman       False    B  Southampton   yes   True  \n",
      "888  woman       False  NaN  Southampton    no  False  \n",
      "889    man        True    C    Cherbourg   yes   True  \n",
      "890    man        True  NaN   Queenstown    no   True  \n",
      "\n",
      "[891 rows x 15 columns]\n"
     ]
    }
   ],
   "source": [
    "%show_variables"
   ]
  },
  {
   "cell_type": "code",
   "execution_count": 11,
   "id": "fe0b5817-c80f-4b34-b4cc-7d2a802cda66",
   "metadata": {},
   "outputs": [
    {
     "data": {
      "text/markdown": [
       "Yes, the titanic DataFrame is now in my context.\n",
       "\n",
       "You can ask me to analyze the data, and I'll be happy to help. What would you like to know about the Titanic dataset?"
      ],
      "text/plain": [
       "<IPython.core.display.Markdown object>"
      ]
     },
     "metadata": {},
     "output_type": "display_data"
    }
   ],
   "source": [
    "%%ask_data \n",
    "is titanic dataframe in your Context ?"
   ]
  },
  {
   "cell_type": "code",
   "execution_count": 12,
   "id": "a0917017-58e5-4e1d-9932-f58e86a2f1b2",
   "metadata": {},
   "outputs": [
    {
     "data": {
      "text/markdown": [
       "```python\n",
       "```python\n",
       "# Import necessary libraries\n",
       "from catboost import CatBoostClassifier\n",
       "from sklearn.model_selection import train_test_split\n",
       "from sklearn.metrics import accuracy_score, classification_report, confusion_matrix\n",
       "\n",
       "# Define features (X) and target (y)\n",
       "X = titanic.drop('survived', axis=1)\n",
       "y = titanic['survived']\n",
       "\n",
       "# Split data into training and testing sets\n",
       "X_train, X_test, y_train, y_test = train_test_split(X, y, test_size=0.2, random_state=42)\n",
       "\n",
       "# Define categorical features\n",
       "categorical_features = ['sex', 'embarked', 'class', 'who', 'deck', 'embark_town', 'alive']\n",
       "\n",
       "# Initialize CatBoostClassifier\n",
       "model = CatBoostClassifier(iterations=100, random_state=42)\n",
       "\n",
       "# Train the model\n",
       "model.fit(X_train, y_train, cat_features=categorical_features, verbose=False)\n",
       "\n",
       "# Make predictions on the test set\n",
       "y_pred = model.predict(X_test)\n",
       "\n",
       "# Evaluate the model\n",
       "accuracy = accuracy_score(y_test, y_pred)\n",
       "print(\"Accuracy:\", accuracy)\n",
       "print(\"Classification Report:\")\n",
       "print(classification_report(y_test, y_pred))\n",
       "print(\"Confusion Matrix:\")\n",
       "print(confusion_matrix(y_test, y_pred))\n",
       "```\n",
       "```"
      ],
      "text/plain": [
       "<IPython.core.display.Markdown object>"
      ]
     },
     "metadata": {},
     "output_type": "display_data"
    }
   ],
   "source": [
    "%%ask_code \n",
    "\"Give me the code to train a classification model on titanic dataset, using catboost, to predict survival. Add comments to the code\""
   ]
  },
  {
   "cell_type": "code",
   "execution_count": 14,
   "id": "f2c8151e-5c7b-4844-b6bf-d6aa996adcb1",
   "metadata": {},
   "outputs": [
    {
     "data": {
      "text/markdown": [
       "```python\n",
       "```python\n",
       "# Import necessary libraries\n",
       "from catboost import CatBoostClassifier\n",
       "from sklearn.model_selection import train_test_split\n",
       "from sklearn.metrics import accuracy_score, classification_report, confusion_matrix, precision_score, recall_score\n",
       "\n",
       "# Define features (X) and target (y)\n",
       "X = titanic.drop('survived', axis=1)\n",
       "y = titanic['survived']\n",
       "\n",
       "# Split data into training and testing sets\n",
       "X_train, X_test, y_train, y_test = train_test_split(X, y, test_size=0.2, random_state=42)\n",
       "\n",
       "# Define categorical features\n",
       "categorical_features = ['sex', 'embarked', 'class', 'who', 'deck', 'embark_town', 'alive']\n",
       "\n",
       "# Initialize CatBoostClassifier\n",
       "model = CatBoostClassifier(iterations=100, random_state=42)\n",
       "\n",
       "# Train the model\n",
       "model.fit(X_train, y_train, cat_features=categorical_features, verbose=False)\n",
       "\n",
       "# Make predictions on the test set\n",
       "y_pred = model.predict(X_test)\n",
       "\n",
       "# Evaluate the model\n",
       "accuracy = accuracy_score(y_test, y_pred)\n",
       "precision = precision_score(y_test, y_pred)\n",
       "recall = recall_score(y_test, y_pred)\n",
       "\n",
       "print(\"Accuracy:\", accuracy)\n",
       "print(\"Precision:\", precision)\n",
       "print(\"Recall:\", recall)\n",
       "print(\"Classification Report:\")\n",
       "print(classification_report(y_test, y_pred))\n",
       "print(\"Confusion Matrix:\")\n",
       "print(confusion_matrix(y_test, y_pred))\n",
       "```\n",
       "```"
      ],
      "text/plain": [
       "<IPython.core.display.Markdown object>"
      ]
     },
     "metadata": {},
     "output_type": "display_data"
    }
   ],
   "source": [
    "%%ask_code \n",
    "\"modify the code to compute precision and recall\""
   ]
  },
  {
   "cell_type": "code",
   "execution_count": null,
   "id": "20a250e1-e0ff-40d8-8599-469aba9c2988",
   "metadata": {},
   "outputs": [],
   "source": [
    "%ask_code \"provide the code to compute the correlation matrix for numeric features in dataset titanic\""
   ]
  },
  {
   "cell_type": "code",
   "execution_count": null,
   "id": "21cfb28a-c211-47a7-8e37-389a2fa622da",
   "metadata": {},
   "outputs": [],
   "source": [
    "import pandas as pd\n",
    "import numpy as np\n",
    "import seaborn as sns\n",
    "import matplotlib.pyplot as plt\n",
    "\n",
    "# Assuming the titanic dataset is already loaded into a DataFrame called 'titanic'\n",
    "titanic_numeric = titanic.select_dtypes(include=[np.number])\n",
    "\n",
    "# Compute the correlation matrix\n",
    "corr_matrix = titanic_numeric.corr()\n",
    "\n",
    "# Display the correlation matrix\n",
    "print(corr_matrix)\n",
    "\n",
    "# Visualize the correlation matrix using a heatmap\n",
    "plt.figure(figsize=(10, 8))\n",
    "sns.heatmap(corr_matrix, annot=True, cmap=\"coolwarm\", square=True)\n",
    "plt.title(\"Correlation Matrix for Numeric Features in Titanic Dataset\")\n",
    "plt.show()"
   ]
  },
  {
   "cell_type": "code",
   "execution_count": null,
   "id": "b9b95b53-0f45-4eac-afec-de94c1b8571a",
   "metadata": {},
   "outputs": [],
   "source": [
    "%ask_code \"modify the code to handle this error: Invalid type for cat_feature[object_idx=1,feature_idx=10]=NaN : cat_features must be integer or string, real number values and NaN values should be converted to string.\""
   ]
  },
  {
   "cell_type": "code",
   "execution_count": null,
   "id": "ca2e3ec3-ea3e-4395-bbdb-5e4aecfc3289",
   "metadata": {},
   "outputs": [],
   "source": [
    "%ask_data \"Analyze the titanic dataset I have loaded and provide a detailed report.\""
   ]
  },
  {
   "cell_type": "code",
   "execution_count": null,
   "id": "a3c32c51-20f1-4920-8b10-b967122e5800",
   "metadata": {},
   "outputs": [],
   "source": [
    "%genai_stats"
   ]
  },
  {
   "cell_type": "code",
   "execution_count": null,
   "id": "3ed45bc7-8b0c-4e48-badf-63fe2636457e",
   "metadata": {},
   "outputs": [],
   "source": [
    "%ask_data How many records and columns are in the titanic DataFrame ?"
   ]
  },
  {
   "cell_type": "code",
   "execution_count": null,
   "id": "dc56da60-0b21-4356-990a-26e6d06430a1",
   "metadata": {},
   "outputs": [],
   "source": [
    "%ask how do you know the dataset contains 891 records if in the variable I have loaded has less records ?"
   ]
  },
  {
   "cell_type": "code",
   "execution_count": null,
   "id": "115e2537-4585-46d3-9338-37ed9b3ffe40",
   "metadata": {},
   "outputs": [],
   "source": [
    "%ask_data can you look at the titanic datframe you have in your context ?"
   ]
  },
  {
   "cell_type": "code",
   "execution_count": null,
   "id": "859b01aa-da06-4e76-ba49-a92457f57318",
   "metadata": {},
   "outputs": [],
   "source": [
    "%ask_data \"list all columns in titanic dataset loaded with null values\""
   ]
  },
  {
   "cell_type": "code",
   "execution_count": null,
   "id": "2cd13c54-3623-47cf-b5df-fca22edfe7b5",
   "metadata": {},
   "outputs": [],
   "source": [
    "# another famous dataset\n",
    "iris = sns.load_dataset(\"iris\")"
   ]
  },
  {
   "cell_type": "code",
   "execution_count": null,
   "id": "d74129c7-7919-4fbb-84f3-4d481181a328",
   "metadata": {},
   "outputs": [],
   "source": [
    "%ask_data \"Analyze the iris dataset and provide a detailed report.\""
   ]
  },
  {
   "cell_type": "code",
   "execution_count": null,
   "id": "02e197cd-1d8f-4d4e-8314-b94e329b37fe",
   "metadata": {},
   "outputs": [],
   "source": [
    "%ask_data Analyze the iris dataset. Do you think it is possible to identify the species from the features ?"
   ]
  },
  {
   "cell_type": "code",
   "execution_count": null,
   "id": "c3e02d5b-5b5d-4366-a0a0-e3d8f4ef9326",
   "metadata": {},
   "outputs": [],
   "source": [
    "%ask_data Analyze the iris dataset. Can you suggest to remove some features as redundant ?"
   ]
  },
  {
   "cell_type": "code",
   "execution_count": null,
   "id": "46f915f0-ba9e-4834-8c58-ca5b203da6a2",
   "metadata": {},
   "outputs": [],
   "source": [
    "%ask_code in catboost do I need to transform categorical in number ?"
   ]
  },
  {
   "cell_type": "code",
   "execution_count": null,
   "id": "079cd9b9-703d-413c-94d1-1cc354d3d04e",
   "metadata": {},
   "outputs": [],
   "source": [
    "%ask_code \"modify the code to use xgboost\""
   ]
  },
  {
   "cell_type": "code",
   "execution_count": null,
   "id": "77abe902-c02b-4aba-b0bf-8989bbb9d824",
   "metadata": {},
   "outputs": [],
   "source": [
    "%ask What is catboost ? Give a detailed description."
   ]
  },
  {
   "cell_type": "code",
   "execution_count": null,
   "id": "8613bb8f-ed7e-4907-9b34-7284d2a58075",
   "metadata": {},
   "outputs": [],
   "source": [
    "%ask \"can you suggest other gradient boosting models ?\""
   ]
  },
  {
   "cell_type": "code",
   "execution_count": null,
   "id": "6c70412d-f22f-4ec8-9c33-9cfef7b8ba5a",
   "metadata": {},
   "outputs": [],
   "source": [
    "%ask_code \"how to find rows with NaN values in titanic dataframe ?\""
   ]
  },
  {
   "cell_type": "code",
   "execution_count": null,
   "id": "54f901a5-24cc-45ce-a8fd-09510c9211d0",
   "metadata": {},
   "outputs": [],
   "source": []
  }
 ],
 "metadata": {
  "kernelspec": {
   "display_name": "Python 3 (ipykernel)",
   "language": "python",
   "name": "python3"
  },
  "language_info": {
   "codemirror_mode": {
    "name": "ipython",
    "version": 3
   },
   "file_extension": ".py",
   "mimetype": "text/x-python",
   "name": "python",
   "nbconvert_exporter": "python",
   "pygments_lexer": "ipython3",
   "version": "3.11.0"
  }
 },
 "nbformat": 4,
 "nbformat_minor": 5
}
