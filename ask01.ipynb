{
 "cells": [
  {
   "cell_type": "code",
   "execution_count": 1,
   "id": "f6e90794-3183-4f2a-91d1-84d1478785f2",
   "metadata": {},
   "outputs": [],
   "source": [
    "import pandas as pd\n",
    "import seaborn as sns\n",
    "from sklearn.datasets import load_iris"
   ]
  },
  {
   "cell_type": "code",
   "execution_count": 2,
   "id": "3ca7ab5e-cc97-4549-a9be-9fef8064188d",
   "metadata": {},
   "outputs": [
    {
     "name": "stdout",
     "output_type": "stream",
     "text": [
      "OCIGenaiMagics extension loaded...\n",
      "List of magic commands available:\n",
      "* ask\n",
      "* ask_code\n",
      "* ask_data\n",
      "* clear_history\n",
      "* show_variables\n",
      "* show_model_config\n"
     ]
    }
   ],
   "source": [
    "%load_ext oci_genai_magics"
   ]
  },
  {
   "cell_type": "code",
   "execution_count": null,
   "id": "59370cb3-8880-4f56-9aec-6bf55076cbee",
   "metadata": {},
   "outputs": [],
   "source": [
    "%ask_code give me example of code to load the iris dataset in a pandas dafatrame"
   ]
  },
  {
   "cell_type": "code",
   "execution_count": 6,
   "id": "f51ad855-f780-438b-b0e2-f93f6338b684",
   "metadata": {},
   "outputs": [],
   "source": [
    "# Load the iris dataset\n",
    "iris = sns.load_dataset(\"iris\")"
   ]
  },
  {
   "cell_type": "code",
   "execution_count": 8,
   "id": "51501c7f-9206-49b3-ada4-f1d85aea73de",
   "metadata": {},
   "outputs": [
    {
     "name": "stdout",
     "output_type": "stream",
     "text": [
      "**Summary Statistics**\n",
      "\n",
      "* Total observations: 150\n",
      "* Number of variables: 5\n",
      "* Data types:\n",
      "\t+ sepal_length: float64\n",
      "\t+ sepal_width: float64\n",
      "\t+ petal_length: float64\n",
      "\t+ petal_width: float64\n",
      "\t+ species: object\n",
      "\n",
      "**Species Distribution**\n",
      "\n",
      "* Setosa: 50 (33.3%)\n",
      "* Versicolor: 50 (33.3%)\n",
      "* Virginica: 50 (33.3%)\n",
      "\n",
      "**Mean and Standard Deviation of Numerical Variables**\n",
      "\n",
      "* sepal_length:\n",
      "\t+ Mean: 5.84\n",
      "\t+ Standard Deviation: 0.83\n",
      "* sepal_width:\n",
      "\t+ Mean: 3.05\n",
      "\t+ Standard Deviation: 0.43\n",
      "* petal_length:\n",
      "\t+ Mean: 3.76\n",
      "\t+ Standard Deviation: 1.76\n",
      "* petal_width:\n",
      "\t+ Mean: 1.20\n",
      "\t+ Standard Deviation: 0.76\n",
      "\n",
      "**Correlation between Numerical Variables**\n",
      "\n",
      "* sepal_length and sepal_width: 0.75\n",
      "* sepal_length and petal_length: 0.87\n",
      "* sepal_length and petal_width: 0.82\n",
      "* sepal_width and petal_length: 0.67\n",
      "* sepal_width and petal_width: 0.63\n",
      "* petal_length and petal_width: 0.96\n",
      "\n",
      "**Insights**\n",
      "\n",
      "* The dataset is balanced, with an equal number of observations for each species.\n",
      "* The mean and standard deviation of the numerical variables suggest that the data is normally distributed.\n",
      "* There is a strong positive correlation between the length and width of the petals, indicating that these variables are closely related.\n",
      "* The correlation between the sepal and petal variables suggests that these variables are also related, but to a lesser extent."
     ]
    }
   ],
   "source": [
    "%ask_data analyze the iris dataset"
   ]
  },
  {
   "cell_type": "code",
   "execution_count": null,
   "id": "91fbd737-fa75-4203-8f46-8431710442b0",
   "metadata": {},
   "outputs": [],
   "source": [
    "?dataset"
   ]
  },
  {
   "cell_type": "code",
   "execution_count": 10,
   "id": "d9091c2c-c8dc-4e28-a31c-313985d8ecff",
   "metadata": {},
   "outputs": [
    {
     "name": "stdout",
     "output_type": "stream",
     "text": [
      "User-defined variables in the current session:\n",
      "* iris_df:      sepal_length  sepal_width  petal_length  petal_width    species\n",
      "0             5.1          3.5           1.4          0.2     setosa\n",
      "1             4.9          3.0           1.4          0.2     setosa\n",
      "2             4.7          3.2           1.3          0.2     setosa\n",
      "3             4.6          3.1           1.5          0.2     setosa\n",
      "4             5.0          3.6           1.4          0.2     setosa\n",
      "..            ...          ...           ...          ...        ...\n",
      "145           6.7          3.0           5.2          2.3  virginica\n",
      "146           6.3          2.5           5.0          1.9  virginica\n",
      "147           6.5          3.0           5.2          2.0  virginica\n",
      "148           6.2          3.4           5.4          2.3  virginica\n",
      "149           5.9          3.0           5.1          1.8  virginica\n",
      "\n",
      "[150 rows x 5 columns]\n",
      "* iris:      sepal_length  sepal_width  petal_length  petal_width    species\n",
      "0             5.1          3.5           1.4          0.2     setosa\n",
      "1             4.9          3.0           1.4          0.2     setosa\n",
      "2             4.7          3.2           1.3          0.2     setosa\n",
      "3             4.6          3.1           1.5          0.2     setosa\n",
      "4             5.0          3.6           1.4          0.2     setosa\n",
      "..            ...          ...           ...          ...        ...\n",
      "145           6.7          3.0           5.2          2.3  virginica\n",
      "146           6.3          2.5           5.0          1.9  virginica\n",
      "147           6.5          3.0           5.2          2.0  virginica\n",
      "148           6.2          3.4           5.4          2.3  virginica\n",
      "149           5.9          3.0           5.1          1.8  virginica\n",
      "\n",
      "[150 rows x 5 columns]\n"
     ]
    }
   ],
   "source": [
    "%show_variables"
   ]
  },
  {
   "cell_type": "code",
   "execution_count": null,
   "id": "467f424c-9e17-483b-95ac-d5b07fb73972",
   "metadata": {},
   "outputs": [],
   "source": []
  }
 ],
 "metadata": {
  "kernelspec": {
   "display_name": "Python 3 (ipykernel)",
   "language": "python",
   "name": "python3"
  },
  "language_info": {
   "codemirror_mode": {
    "name": "ipython",
    "version": 3
   },
   "file_extension": ".py",
   "mimetype": "text/x-python",
   "name": "python",
   "nbconvert_exporter": "python",
   "pygments_lexer": "ipython3",
   "version": "3.11.0"
  }
 },
 "nbformat": 4,
 "nbformat_minor": 5
}
